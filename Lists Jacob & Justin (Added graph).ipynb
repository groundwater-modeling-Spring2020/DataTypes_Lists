{
 "cells": [
  {
   "cell_type": "markdown",
   "metadata": {},
   "source": [
    "# What is a List\n",
    "## A list is a collection of values which can contain subsets of values.  \n",
    "To think of an example that would put a list into perspective consider you have fuits. You could have 2 elements in this list, fruits that come from trees and others that come from bushes.  \n",
    "\n",
    "This would take the deminsion of \n",
    "```python\n",
    "Fruits=['trees','bushes','none']\n",
    "```  \n",
    "\n",
    "You could then create subsets of data by splitting the tree section into apples, oranges, and peaches and bushes into raspberries, blackberries, blueberries.  \n",
    "```python\n",
    "trees=['apples','oranges','peaches']\n",
    "bushes=['raspberries','blackberries','blueberries']\n",
    "```\n",
    "The fruits would now have another dimension; a list within a list:  \n",
    "```python\n",
    "Fruits=[['apples','oranges','peaches'],['raspberries','blackberries','blueberries']]\n",
    "```\n",
    "\n",
    "A list is maluable. You can insert elements, delete them, repeat them, and create functions that retreive information that would be of benefit.  \n",
    "\n",
    "For example:  \n",
    "\n",
    "    If you wanted to know whether a part of land had fruit trees or bushes you could create an argument that if it has oranges you could return a new list that counts the number of trees or bushes.  "
   ]
  },
  {
   "cell_type": "code",
   "execution_count": 1,
   "metadata": {},
   "outputs": [
    {
     "name": "stdout",
     "output_type": "stream",
     "text": [
      "Land Part  0 : ['apples']\n",
      "Land Part  1 : ['blackberries']\n",
      "Land Part  2 : ['raspberries']\n",
      "Land Part  3 : ['blueberries', 'peaches', 'oranges']\n",
      "\n",
      "The total Land has: [['apples'], ['blackberries'], ['raspberries'], ['blueberries', 'peaches', 'oranges']]\n"
     ]
    }
   ],
   "source": [
    "import random\n",
    "trees=['apples','oranges','peaches']\n",
    "bushes=['raspberries','blackberries','blueberries']\n",
    "none=['none']\n",
    "Fruits=[trees,bushes,none]\n",
    "land_part0=[]\n",
    "land_part1=[]\n",
    "land_part2=[]\n",
    "land_part3=[]\n",
    "land=[land_part0,land_part1,land_part2,land_part3]\n",
    "while len(bushes) != 0:\n",
    "    random_list = random.randint(0, 4)\n",
    "    land[random_list - 1].append(bushes.pop())\n",
    "\n",
    "while len(trees) != 0:\n",
    "    random_list = random.randint(0, 4)\n",
    "    land[random_list - 1].append(trees.pop())\n",
    "\n",
    "for i in range(len(land)):\n",
    "        print('Land Part ',str(i),': ', end='')\n",
    "        print(land[i])\n",
    "print('\\nThe total Land has:',land)"
   ]
  },
  {
   "cell_type": "code",
   "execution_count": 2,
   "metadata": {},
   "outputs": [
    {
     "name": "stdout",
     "output_type": "stream",
     "text": [
      "Land Part # 0 has:\n",
      " 1 Tree(s) or Bush(es)\n",
      "\n",
      "Land Part # 1 has:\n",
      " 1 Tree(s) or Bush(es)\n",
      "\n",
      "Land Part # 2 has:\n",
      " 1 Tree(s) or Bush(es)\n",
      "\n",
      "Land Part # 3 has:\n",
      " 3 Tree(s) or Bush(es)\n",
      "\n",
      "\n",
      "The total number of Trees and Bushes on the land is: 6 \n",
      "\n"
     ]
    }
   ],
   "source": [
    "NumVeg=[0,0,0,0]\n",
    "for i in range(0,4):\n",
    "    NumVeg[i]=(land[i].count('apples')+land[i].count('oranges')+land[i].count('peaches')+\n",
    "               land[i].count('raspberries')+land[i].count('blackberries')+land[i].count('blueberries'))\n",
    "    print('Land Part #',str(i),'has:\\n',NumVeg[i],'Tree(s) or Bush(es)\\n')\n",
    "#print(NumVeg)\n",
    "print('\\nThe total number of Trees and Bushes on the land is:',(NumVeg[1]+NumVeg[2]+NumVeg[3]+NumVeg[0]),'\\n')"
   ]
  },
  {
   "cell_type": "markdown",
   "metadata": {},
   "source": [
    "## Useful Commands"
   ]
  },
  {
   "cell_type": "markdown",
   "metadata": {},
   "source": [
    "```python\n",
    "print(len(listname))\n",
    "```\n",
    "    Shows the number of elements in a list. *Note does not count sub lists use [] to denote position of sublist if you want number elements in sublist  \n",
    "\n",
    "```python\n",
    "[][]\n",
    "```\n",
    "    The square brackets represent lists within lists the first being the position of sublist you are accessing and the second the position within that sublist.  \n",
    "\n",
    "```python\n",
    "print(id(listname))\n",
    "``` \n",
    "    Shows the id of the list.  \n",
    "\n",
    "```python\n",
    "listname[][]= 'element'\n",
    "```\n",
    "    Replaces an element in the position you refrence to.  \n",
    "\n",
    "```python\n",
    "listname[:] = []\n",
    "```\n",
    "    Slicing tool takes a slice that you define and replaces with new element that is defined. \n",
    "\n",
    "```python\n",
    "listname.append([])\n",
    "```\n",
    "    Adds a new element [ ] to the end of a list.  \n",
    "\n",
    "```python\n",
    "listname.insert(x,y)\n",
    "```\n",
    "    Inserts value (y) in position (x)  \n",
    "\n",
    "```python\n",
    "name = glue.join(listname)\n",
    "```\n",
    "    Combines values of a list into one value. Glue is a space by default but can be replaced with 'x' where x is anything you want.  \n",
    "\n",
    "```python\n",
    "name.split('x')\n",
    "```\n",
    "    Can be used to split a list of values where x defines what is the spliting parameter (i.e. 1x2x3 would become [1 , 2, 3])  \n",
    "\n",
    "```python\n",
    "for index in range(len(listname)):\n",
    "    listname[index] = listname[index] * number\n",
    "``` \n",
    "    Defines the index which you'd like to adjust where \"*\" can be any operator and \"number\" can be any number.  \n",
    "    \n",
    "Below is a loop function that replaces a funtion name with what ever you want.  \n",
    " * \"new_list\" is a new empty list\n",
    " * if function is valid produce whatever value you want to define\n",
    " * if not a counter definition and add to the end of empty list  \n",
    "\n",
    "```python\n",
    "def functionname(a_list):\n",
    "    new_list=[]\n",
    "    for integer in a_list:\n",
    "        if function:\n",
    "            new_list.append(definition)\n",
    "        if not function:\n",
    "            new_list.append(definition)\n",
    "    return new_list\n",
    "```"
   ]
  },
  {
   "cell_type": "markdown",
   "metadata": {},
   "source": [
    "## Walkthrough Example of Properties"
   ]
  },
  {
   "cell_type": "code",
   "execution_count": 3,
   "metadata": {
    "scrolled": true
   },
   "outputs": [
    {
     "name": "stdout",
     "output_type": "stream",
     "text": [
      "[1, 2, ['Ox', 'dog', 'cow'], 4, 5, 6]\n",
      "3\n",
      "dog\n",
      "True\n",
      "False\n",
      "True\n",
      "93235208\n",
      "93235144\n",
      "True\n",
      "False\n",
      "[1, 2, ['Ox', 'Bison', 'cow'], 4, ['cat', 'dog', 'mouse'], 5, 6]\n",
      "[-2, -1, 0, 1, 2, ['Ox', 'Bison', 'cow'], 4, ['cat', 'dog', 'mouse'], 5, 6]\n",
      "True\n",
      "True\n",
      "[1, 2, ['Ox', 'Bison', 'cow'], 4, ['cat', 'dog', 'mouse'], 5, 6]\n",
      "[1, 2, ['Ox', 'Bison', 'cow'], 4, ['cat', 'dog', 'mouse']]\n",
      "[1, 2, ['Ox', 'Bison', 'cow'], 4, ['cat', 'dog', 'mouse'], ['wild', 'west.willywonka']]\n",
      "[1, 2, ['Ox', 'Bison', 'cow'], 3, 4, ['cat', 'dog', 'mouse'], 5, ['wild', 'west.willywonka']]\n",
      "wildwest.willywonka\n",
      "['wildwest', 'willywonka']\n",
      "[1, 2, ['Ox', 'Bison', 'cow'], 3, 4, ['cat', 'dog', 'mouse'], 5, ['wildwest', 'willywonka']]\n",
      "[0, 1, 2, 3, 4, 5, 6]\n",
      "[0, 1, 4, 9, 16, 25, 36]\n",
      "['even', 'odd', 'even', 'odd', 'even', 'odd', 'even']\n",
      "['even', 'odd', 'even', 'odd', 'even', 'odd', 'even', 'even', 'odd', 'even', 'odd', 'even', 'odd', 'even']\n"
     ]
    }
   ],
   "source": [
    "# Create a list and  find the length\n",
    "list1=[1,2,['Ox','dog','cow'],4,5,6]\n",
    "print(list1)\n",
    "print(len(list1[2]))\n",
    "\n",
    "# This step isolates components and can be used to see if an item is in a list remember a list starts at 0 not 1\n",
    "print(list1[2][1])\n",
    "print('Ox' in list1[2])\n",
    "print('Bison' in list1[2])\n",
    "\n",
    "# Used to replace 'dog' or the item in position 1 of the position 2 sublist\n",
    "list1[2][1]='Bison'\n",
    "print('Bison' in list1[2])\n",
    "\n",
    "# Made a new list that is = list1 but is not refering to the same object and printed there corresponding id's\n",
    "list2= [1,2,['Ox','Bison','cow'],4,5,6]\n",
    "print(id(list1))\n",
    "print(id(list2))\n",
    "print(list1 == list2)\n",
    "print(list1 is list2)\n",
    "\n",
    "# This portion is slicing.\n",
    "# It replaces everything after position 4 with my new list if I used an empty list it would delete values \n",
    "list1[4:] = [['cat','dog','mouse'],5,6]\n",
    "print(list1)\n",
    "\n",
    "# This step inserts values in position 0 without deleting values\n",
    "list1[0:0]= [-2,-1,0]\n",
    "print(list1)\n",
    "\n",
    "# this step produces a list that is refering to the same object and that a change to one changes the other\n",
    "listA=list1\n",
    "listB=listA\n",
    "print(listA == listB)\n",
    "print(listA is listB)\n",
    "\n",
    "# This step deletes all the values <0\n",
    "listA[0:3] =[]\n",
    "print(listB)\n",
    "\n",
    "# This step clones a portion of listA and defines it as listB [:] would clone the entirety of the list\n",
    "listB= listA[:5]\n",
    "print(listB)\n",
    "\n",
    "# Shows the use of .append and .insert\n",
    "# .append (inserts element into list at the end)\n",
    "# .insert( inserts element in chosen location)\n",
    "listB.append(['wild','west.willywonka'])\n",
    "print(listB)\n",
    "listB.insert(3,3)\n",
    "listB.insert(6,5)\n",
    "print(listB)\n",
    "\n",
    "# Shows the use of join and splitting, then replaces the old movies with fixed movies categories\n",
    "# join (joins the 2 elements to make 1 element)\n",
    "# spliting (splits the element where I see fit is the period) \n",
    "movies= ''.join(listB[7])\n",
    "print(movies)\n",
    "moviesfixed= movies.split('.')\n",
    "print(moviesfixed)\n",
    "listB[7]=moviesfixed\n",
    "print(listB)\n",
    "\n",
    "# This step replaces the old list with a new list of just numbers \n",
    "listB[:]=[0,1,2,3,4,5,6]\n",
    "print(listB)\n",
    "\n",
    "# Defines list B to = listB ^2 (can use any operator in place of **)\n",
    "for numbers in range(len(listB)):\n",
    "    listB[numbers] = listB[numbers] **2\n",
    "print(listB)\n",
    "\n",
    "# This step defines a function loop that finds all even and odd numbers in any list and produces\n",
    "# a new list that defines the position as even or odd\n",
    "def evenorodd(a_list):\n",
    "    new_list=[]\n",
    "    for num in a_list:\n",
    "        if num%2==1:\n",
    "            new_list.append('odd')\n",
    "        if not num%2==1:\n",
    "            new_list.append('even')\n",
    "    return new_list\n",
    "listB= evenorodd(listB)\n",
    "print(listB)\n",
    "\n",
    "# shows that it is easy to repeat a list as many times as you like\n",
    "listB= listB*2\n",
    "print(listB)"
   ]
  },
  {
   "cell_type": "code",
   "execution_count": 4,
   "metadata": {},
   "outputs": [
    {
     "data": {
      "image/png": "[encoded data removed]",
      "text/plain": [
       "<Figure size 432x288 with 1 Axes>"
      ]
     },
     "metadata": {},
     "output_type": "display_data"
    }
   ],
   "source": [
    "# A simple x, y scatter plot using two lists from above\n",
    "%matplotlib inline\n",
    "import matplotlib.pyplot as plt\n",
    "plt.style.use('seaborn-whitegrid')\n",
    "import numpy as np\n",
    "\n",
    "list1= [0,1,2,3,4,5,6]\n",
    "list2= [0,1,4,9,16,25,36]\n",
    "\n",
    "plt.scatter(x=list1, y=list2, marker='o');"
   ]
  },
  {
   "cell_type": "markdown",
   "metadata": {},
   "source": [
    "## A Familiar Example  "
   ]
  },
  {
   "cell_type": "code",
   "execution_count": 5,
   "metadata": {},
   "outputs": [
    {
     "name": "stdout",
     "output_type": "stream",
     "text": [
      "flopy is installed in c:\\users\\jakey\\appdata\\local\\programs\\python\\python38-32\\lib\\site-packages\\flopy\n"
     ]
    }
   ],
   "source": [
    "import flopy\n",
    "import numpy as np"
   ]
  },
  {
   "cell_type": "code",
   "execution_count": 6,
   "metadata": {},
   "outputs": [
    {
     "name": "stdout",
     "output_type": "stream",
     "text": [
      "From HW4 we used a list to define the boundries of our ET locations. \n",
      "\n",
      "  ET_locxy=[(0,2000),(5000,3000)] \n",
      "\n",
      "ET_locxy is a <class 'list'>\n",
      " - If we look inside ET_locxy we will see: \n",
      "    [(0, 2000), (5000, 3000)] \n",
      "   Two subsets containing cordinates for the southwest and northeast corners of our ET Boundries. \n",
      "\n",
      "If we print \"ET_locxy[0][0]\" we get \" 0 \" \n",
      " which is the value of the first (0 in python) in the first subset of ET_locxy. \n",
      "\n",
      "Printing: \"ET_locxy[0][1]\" results in \" 2000 \" \n",
      "          \"ET_locxy[1][0]\" results in \" 5000 \" \n",
      "          \"ET_locxy[1][1]\" results in \" 3000 \"\n",
      "\n",
      "\n",
      "In HW4 we ET_locxy to help define ET_cols and ET_rows which helped define ET_zone.\n",
      "\n",
      "We called ET_locxy[][] to define the starting and stopping rows and columns for the ET field\n",
      "  ET_rows=(np.floor(nrow-ET_locxy[1][1]/dy),np.floor(nrow-ET_locxy[0][1]/dy)) \n",
      "  ET_cols=(np.floor(ET_locxy[0][0]/dx),np.floor(ET_locxy[1][0]/dx))\n",
      "\n",
      "As a result \"ET_rows\" equaled: \" (20.0, 30.0) \" \n",
      "        and \"ET_cols\" equaled: \" (0.0, 50.0) \"\n"
     ]
    }
   ],
   "source": [
    "print('From HW4 we used a list to define the boundries of our ET locations. \\n')\n",
    "print('  ET_locxy=[(0,2000),(5000,3000)] \\n')\n",
    "ET_locxy=[(0,2000),(5000,3000)]\n",
    "print('ET_locxy is a',type(ET_locxy))\n",
    "print(' - If we look inside ET_locxy we will see:','\\n   ',ET_locxy,'\\n',\n",
    "      '  Two subsets containing cordinates for the southwest and northeast corners of our ET Boundries. \\n')\n",
    "\n",
    "print('If we print \"ET_locxy[0][0]\" we get \"',ET_locxy[0][0],'\" \\n which is the value of the '\n",
    "      'first (0 in python) in the first subset of ET_locxy. \\n')\n",
    "\n",
    "print('Printing: \"ET_locxy[0][1]\" results in \"',ET_locxy[0][1],'\"',\n",
    "      '\\n          \"ET_locxy[1][0]\" results in \"',ET_locxy[1][0],'\"',\n",
    "      '\\n          \"ET_locxy[1][1]\" results in \"',ET_locxy[1][1],'\"')\n",
    "print('\\n')\n",
    "\n",
    "print('In HW4 we ET_locxy to help define ET_cols and ET_rows which helped define ET_zone.')\n",
    "print('\\nWe called ET_locxy[][] to define the starting and stopping rows and columns for the ET field')\n",
    "print('  ET_rows=(np.floor(nrow-ET_locxy[1][1]/dy),np.floor(nrow-ET_locxy[0][1]/dy)) '\n",
    "      '\\n  ET_cols=(np.floor(ET_locxy[0][0]/dx),np.floor(ET_locxy[1][0]/dx))\\n')\n",
    "nrow=50\n",
    "ncol=50\n",
    "nlay=1\n",
    "dx=100\n",
    "dy=100\n",
    "Lx=ncol*dx\n",
    "Ly=nrow*dy\n",
    "ztop=100\n",
    "zbot=0\n",
    "dz=(ztop-zbot)/nlay\n",
    "ET_rows=(np.floor(nrow-ET_locxy[1][1]/dy),np.floor(nrow-ET_locxy[0][1]/dy))\n",
    "ET_cols=(np.floor(ET_locxy[0][0]/dx),np.floor(ET_locxy[1][0]/dx))\n",
    "\n",
    "print('As a result \"ET_rows\" equaled: \"',ET_rows,'\"','\\n        and \"ET_cols\" equaled: \"',ET_cols,'\"')"
   ]
  },
  {
   "cell_type": "markdown",
   "metadata": {},
   "source": [
    "## Useful tutorials\n",
    "https://runestone.academy/runestone/books/published/thinkcspy/Lists/intro-Lists.html"
   ]
  }
 ],
 "metadata": {
  "kernelspec": {
   "display_name": "Python 3",
   "language": "python",
   "name": "python3"
  },
  "language_info": {
   "codemirror_mode": {
    "name": "ipython",
    "version": 3
   },
   "file_extension": ".py",
   "mimetype": "text/x-python",
   "name": "python",
   "nbconvert_exporter": "python",
   "pygments_lexer": "ipython3",
   "version": "3.8.1"
  }
 },
 "nbformat": 4,
 "nbformat_minor": 4
}
