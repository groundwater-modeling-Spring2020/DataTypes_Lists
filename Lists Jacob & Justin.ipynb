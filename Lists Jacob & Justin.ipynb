{
 "cells": [
  {
   "cell_type": "markdown",
   "metadata": {},
   "source": [
    "# What is a List\n",
    "A list is a collection of values which can contain subsets of values. To think of an example that would put a list into perspective you have fuits you could have 2 elements in this list fruits that come from trees and others that come from bushs. it would take the deminsion of Fruits=['trees','bushes','none'] you could create subsets of data having the tree section split into apples, oranges, and... for bushes raspberries, blackberries, and ... Now the fruits would have another dimension a list within a list and Fruits= [[apples, oranges, and...],[raspberries, blackberries, and ...]]. A list is maluable you can insert elements delete them, repeat them, and create functions that retreive information that would be of benefit. For example if you wanted to know whether a part of land had fruit trees or bushes you could create an argument that if it has oranges you could return a new list that counts the number of trees or bushes."
   ]
  },
  {
   "cell_type": "markdown",
   "metadata": {},
   "source": [
    "## Useful tutorials\n",
    "https://runestone.academy/runestone/books/published/thinkcspy/Lists/intro-Lists.html"
   ]
  },
  {
   "cell_type": "markdown",
   "metadata": {},
   "source": [
    "## Useful Commands"
   ]
  },
  {
   "cell_type": "code",
   "execution_count": null,
   "metadata": {},
   "outputs": [],
   "source": [
    "print(len(listname))# shows the number of elements in a list.\n",
    "                    # note does not count sub lists\n",
    "                    # use [] to denote position of sublist if you want number elements in sublist\n",
    "        \n",
    "[][]     # the square brackets represent lists within lists the first being the position of sublist you are \n",
    "         # accessing and the second the position within that sublist\n",
    "\n",
    "print(id(listname)) # shows the id of the list\n",
    "\n",
    "listname[][]= 'element' # replaces an element in the position you refrence to\n",
    "\n",
    "listname[:] = [] # slicing tool takes a slice that you define and replaces with new element that is defined\n",
    "\n",
    "listname.append([]) # adds a new element [] to the end of a list\n",
    "\n",
    "listname.insert(x,y) # inserts value (y) in position (x)\n",
    "\n",
    "name = glue.join(listname) # combines values of a list into one value glue is a space by default but\n",
    "                           # can be replaced with 'x' where x is anything you want\n",
    "\n",
    "name.split('x') # can be used to split a list of values where x defines what\n",
    "                # is the spliting parameter (i.e. 1x2x3 would become [1 , 2, 3])\n",
    "\n",
    "for index in range(len(listname)):\n",
    "    listname[index] = listname[index] * number # defines the index which you'd like to adjust where * can be\n",
    "                                               # any operator and numer can be any number\n",
    "\n",
    "# below is how to make a loop function replace funtion name with what ever you want\n",
    "# new_list is a new empty list\n",
    "# if function is valid produce whatever value you want to define\n",
    "# if not a counter definition and add to the end of empty list\n",
    "\n",
    "def functionname(a_list):\n",
    "    new_list=[]\n",
    "    for integer in a_list:\n",
    "        if function:\n",
    "            new_list.append(definition)\n",
    "        if not function:\n",
    "            new_list.append(definition)\n",
    "    return new_list"
   ]
  },
  {
   "cell_type": "markdown",
   "metadata": {},
   "source": [
    "## Walkthrough Example of Properties"
   ]
  },
  {
   "cell_type": "code",
   "execution_count": 2,
   "metadata": {
    "scrolled": true
   },
   "outputs": [
    {
     "name": "stdout",
     "output_type": "stream",
     "text": [
      "[1, 2, ['Ox', 'dog', 'cow'], 4, 5, 6]\n",
      "3\n",
      "dog\n",
      "True\n",
      "False\n",
      "True\n",
      "4496657472\n",
      "4496657792\n",
      "True\n",
      "False\n",
      "[1, 2, ['Ox', 'Bison', 'cow'], 4, ['cat', 'dog', 'mouse'], 5, 6]\n",
      "[-2, -1, 0, 1, 2, ['Ox', 'Bison', 'cow'], 4, ['cat', 'dog', 'mouse'], 5, 6]\n",
      "True\n",
      "True\n",
      "[1, 2, ['Ox', 'Bison', 'cow'], 4, ['cat', 'dog', 'mouse'], 5, 6]\n",
      "[1, 2, ['Ox', 'Bison', 'cow'], 4, ['cat', 'dog', 'mouse']]\n",
      "[1, 2, ['Ox', 'Bison', 'cow'], 4, ['cat', 'dog', 'mouse'], ['wild', 'west.willywonka']]\n",
      "[1, 2, ['Ox', 'Bison', 'cow'], 3, 4, ['cat', 'dog', 'mouse'], 5, ['wild', 'west.willywonka']]\n",
      "wildwest.willywonka\n",
      "['wildwest', 'willywonka']\n",
      "[1, 2, ['Ox', 'Bison', 'cow'], 3, 4, ['cat', 'dog', 'mouse'], 5, ['wildwest', 'willywonka']]\n",
      "[0, 1, 2, 3, 4, 5, 6]\n",
      "[0, 1, 4, 9, 16, 25, 36]\n",
      "['even', 'odd', 'even', 'odd', 'even', 'odd', 'even']\n",
      "['even', 'odd', 'even', 'odd', 'even', 'odd', 'even', 'even', 'odd', 'even', 'odd', 'even', 'odd', 'even']\n"
     ]
    }
   ],
   "source": [
    "# create a list and  find the length\n",
    "list1=[1,2,['Ox','dog','cow'],4,5,6]\n",
    "print(list1)\n",
    "print(len(list1[2]))\n",
    "#this step isolates components and can be used to see if an item is in a list remember a list starts at 0 not 1\n",
    "print(list1[2][1])\n",
    "print('Ox' in list1[2])\n",
    "print('Bison' in list1[2])\n",
    "# Used to replace 'dog' or the item in position 1 of the position 2 sublist\n",
    "list1[2][1]='Bison'\n",
    "print('Bison' in list1[2])\n",
    "# made a new list that is = list1 but is not refering to the same object and printed there corresponding id's\n",
    "list2= [1,2,['Ox','Bison','cow'],4,5,6]\n",
    "print(id(list1))\n",
    "print(id(list2))\n",
    "print(list1 == list2)\n",
    "print(list1 is list2)\n",
    "# this portion is slicing it replaces everything after position 4 with my new list if I used an empty list it would delete values \n",
    "list1[4:] = [['cat','dog','mouse'],5,6]\n",
    "print(list1)\n",
    "# This step inserts values in position 0 without deleting values\n",
    "list1[0:0]= [-2,-1,0]\n",
    "print(list1)\n",
    "# this step produces a list that is refering to the same object and that a change to one changes the other\n",
    "listA=list1\n",
    "listB=listA\n",
    "print(listA == listB)\n",
    "print(listA is listB)\n",
    "#this step deletes all the values <0\n",
    "listA[0:3] =[]\n",
    "print(listB)\n",
    "# this step clones a portion of listA and defines it as listB [:] would clone the entirety of the list\n",
    "listB= listA[:5]\n",
    "print(listB)\n",
    "# Shows the use of .append (inserts element into list at the end) and .insert( inserts element in chosen location)\n",
    "listB.append(['wild','west.willywonka'])\n",
    "print(listB)\n",
    "listB.insert(3,3)\n",
    "listB.insert(6,5)\n",
    "print(listB)\n",
    "#shows the use of join (joins the 2 elements to make 1 element) and spliting (splits the element where I see fit is the period) and then replaces the old movies with fixed movies categories \n",
    "movies= ''.join(listB[7])\n",
    "print(movies)\n",
    "moviesfixed= movies.split('.')\n",
    "print(moviesfixed)\n",
    "listB[7]=moviesfixed\n",
    "print(listB)\n",
    "# this step replaces the old list with a new list of just numbers \n",
    "listB[:]=[0,1,2,3,4,5,6]\n",
    "print(listB)\n",
    "# defines list B to = listB ^2 (can use any operator in place of **)\n",
    "for numbers in range(len(listB)):\n",
    "    listB[numbers] = listB[numbers] **2\n",
    "print(listB)\n",
    "#this step defines a function loop that finds all even and odd numbers in any list and produces a new list that defines the position as even or odd\n",
    "def evenorodd(a_list):\n",
    "    new_list=[]\n",
    "    for num in a_list:\n",
    "        if num%2==1:\n",
    "            new_list.append('odd')\n",
    "        if not num%2==1:\n",
    "            new_list.append('even')\n",
    "    return new_list\n",
    "listB= evenorodd(listB)\n",
    "print(listB)\n",
    "# shows that it is easy to repeat a list as many times as you like\n",
    "listB= listB*2\n",
    "print(listB)"
   ]
  },
  {
   "cell_type": "markdown",
   "metadata": {},
   "source": [
    "## A Familiar Example  \n",
    " - An annotated example pulling from our course materials on where this data type gets used in our workflows, how we make it, manipulate it, use it, plot it etc."
   ]
  },
  {
   "cell_type": "code",
   "execution_count": null,
   "metadata": {},
   "outputs": [],
   "source": []
  }
 ],
 "metadata": {
  "kernelspec": {
   "display_name": "Python 3",
   "language": "python",
   "name": "python3"
  },
  "language_info": {
   "codemirror_mode": {
    "name": "ipython",
    "version": 3
   },
   "file_extension": ".py",
   "mimetype": "text/x-python",
   "name": "python",
   "nbconvert_exporter": "python",
   "pygments_lexer": "ipython3",
   "version": "3.8.1"
  }
 },
 "nbformat": 4,
 "nbformat_minor": 4
}
